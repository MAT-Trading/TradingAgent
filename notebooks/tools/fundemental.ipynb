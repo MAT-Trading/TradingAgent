{
 "cells": [
  {
   "cell_type": "markdown",
   "metadata": {},
   "source": [
    "# Fundemental Tools\n",
    "\n",
    "Tools used in fundemental analysis"
   ]
  },
  {
   "cell_type": "code",
   "execution_count": 35,
   "metadata": {},
   "outputs": [],
   "source": [
    "#| default_exp fundemental"
   ]
  },
  {
   "cell_type": "code",
   "execution_count": 36,
   "metadata": {},
   "outputs": [],
   "source": [
    "#| hide\n",
    "from nbdev.showdoc import *"
   ]
  },
  {
   "cell_type": "code",
   "execution_count": 37,
   "metadata": {},
   "outputs": [],
   "source": [
    "#| export\n",
    "from typing import Union, Dict\n",
    "import yfinance as yf\n",
    "from langchain_core.tools import tool\n",
    "\n",
    "\n",
    "@tool\n",
    "def get_financial_metrics(ticker: str) -> Union[Dict, str]:\n",
    "    \"\"\"Fetches key financial ratios for a given ticker.\"\"\"\n",
    "    try:\n",
    "        stock = yf.Ticker(ticker)\n",
    "        info = stock.info\n",
    "        return {\n",
    "            'pe_ratio': info.get('forwardPE'),\n",
    "            'price_to_book': info.get('priceToBook'),\n",
    "            'debt_to_equity': info.get('debtToEquity'),\n",
    "            'profit_margins': info.get('profitMargins')\n",
    "        }\n",
    "    except Exception as e:\n",
    "        return f\"Error fetching ratios: {str(e)}\""
   ]
  },
  {
   "cell_type": "markdown",
   "metadata": {},
   "source": [
    "## Usage Example"
   ]
  },
  {
   "cell_type": "code",
   "execution_count": null,
   "metadata": {},
   "outputs": [
    {
     "name": "stdout",
     "output_type": "stream",
     "text": [
      "================================\u001b[1m Human Message \u001b[0m=================================\n",
      "\n",
      "Should I buy this stock?\n",
      "==================================\u001b[1m Ai Message \u001b[0m==================================\n",
      "Tool Calls:\n",
      "  get_financial_metrics (0c43207a-394b-4e19-8ccd-6516b1e52f71)\n",
      " Call ID: 0c43207a-394b-4e19-8ccd-6516b1e52f71\n",
      "  Args:\n",
      "    ticker: ALGM\n",
      "=================================\u001b[1m Tool Message \u001b[0m=================================\n",
      "Name: get_financial_metrics\n",
      "\n",
      "{\"pe_ratio\": 40.725807, \"price_to_book\": 4.980276, \"debt_to_equity\": 42.604, \"profit_margins\": -0.08453}\n",
      "==================================\u001b[1m Ai Message \u001b[0m==================================\n",
      "\n",
      "Based on the financial metrics provided, here's a summary of the analysis:\n",
      "\n",
      "**Recent Stock Price Movements and Trends:**\n",
      "The current stock price is not available in the provided data. However, we can analyze the historical trends based on the given financial metrics.\n",
      "\n",
      "**Key Insights from Technical Indicators:**\n",
      "Unfortunately, no technical indicators were provided in the output. Without this information, it's challenging to determine if the stock is overbought or oversold.\n",
      "\n",
      "**Financial Health and Performance:**\n",
      "\n",
      "*   The price-to-earnings ratio (P/E) of 40.725807 indicates that the stock is currently trading at a premium compared to its earnings.\n",
      "*   The debt-to-equity ratio of 42.604 suggests that the company has a relatively high level of debt compared to its equity.\n",
      "*   The profit margins of -0.08453 indicate that the company is currently operating at a loss.\n",
      "\n",
      "**Final Summary:**\n",
      "Based on the available data, it's challenging to make an informed decision about buying this stock. The high P/E ratio and high debt-to-equity ratio may indicate that the stock is overvalued and carries significant risk. Additionally, the company's profit margins are negative, which could be a concern for investors.\n",
      "\n",
      "**Asked Question Answer:**\n",
      "Without more information or historical data on the stock price movements and technical indicators, it's difficult to provide a definitive answer to whether you should buy this stock. However, based on the available financial metrics, it's essential to exercise caution and conduct further research before making any investment decisions.\n"
     ]
    }
   ],
   "source": [
    "from langchain_ollama import ChatOllama\n",
    "from langchain_core.messages import SystemMessage, HumanMessage\n",
    "from typing import TypedDict, Annotated\n",
    "from langgraph.graph import StateGraph, START, END\n",
    "from langgraph.graph.message import add_messages\n",
    "from langgraph.prebuilt import ToolNode, tools_condition\n",
    "\n",
    "FUNDAMENTAL_ANALYST_PROMPT = \"\"\"\n",
    "You are a fundamental analyst specializing in evaluating company (whose symbol is {company}) performance based on stock prices, technical indicators, and financial metrics. Your task is to provide a comprehensive summary of the fundamental analysis for a given stock.\n",
    "\n",
    "You have access to the following tools:\n",
    "1. **get_financial_metrics**: Retrieves key financial metrics, such as revenue, earnings per share (EPS), price-to-earnings ratio (P/E), and debt-to-equity ratio.\n",
    "\n",
    "### Your Task:\n",
    "1. **Input Stock Symbol**: Use the provided stock symbol to query the tools and gather the relevant information.\n",
    "2. **Analyze Data**: Evaluate the results from the tools and identify potential resistance, key trends, strengths, or concerns.\n",
    "3. **Provide Summary**: Write a concise, well-structured summary that highlights:\n",
    "    - Recent stock price movements, trends and potential resistance.\n",
    "    - Key insights from technical indicators (e.g., whether the stock is overbought or oversold).\n",
    "    - Financial health and performance based on financial metrics.\n",
    "\n",
    "### Constraints:\n",
    "- Use only the data provided by the tools.\n",
    "- Avoid speculative language; focus on observable data and trends.\n",
    "- If any tool fails to provide data, clearly state that in your summary.\n",
    "\n",
    "### Output Format:\n",
    "Respond in the following format:\n",
    "\"stock\": \"<Stock Symbol>\",\n",
    "\"price_analysis\": \"<Detailed analysis of stock price trends>\",\n",
    "\"technical_analysis\": \"<Detailed time series Analysis from ALL technical indicators>\",\n",
    "\"financial_analysis\": \"<Detailed analysis from financial metrics>\",\n",
    "\"final Summary\": \"<Full Conclusion based on the above analyses>\"\n",
    "\"Asked Question Answer\": \"<Answer based on the details and analysis above>\"\n",
    "\n",
    "Ensure that your response is objective, concise, and actionable.\n",
    "\"\"\"\n",
    "\n",
    "tools = [get_financial_metrics]\n",
    "\n",
    "llm_with_tool = ChatOllama(\n",
    "    model=\"llama3.2\",\n",
    "    temperature=0,\n",
    ").bind_tools(tools=tools)\n",
    "\n",
    "messages = [\n",
    "    SystemMessage(content=FUNDAMENTAL_ANALYST_PROMPT.format(company=\"AAPL\")),\n",
    "    HumanMessage(\"Should I buy this stock?\", pretty_repr=True),\n",
    "    ]  \n",
    "\n",
    "class State(TypedDict):\n",
    "    messages: Annotated[list, add_messages]\n",
    "    stock: str\n",
    "\n",
    "def fundamental_analyst(state: State):\n",
    "    messages = [\n",
    "        SystemMessage(content=FUNDAMENTAL_ANALYST_PROMPT.format(company=state['stock'])),\n",
    "    ]  + state['messages']\n",
    "    return {\n",
    "        'messages': llm_with_tool.invoke(messages)\n",
    "    }\n",
    "\n",
    "graph_builder = StateGraph(State)\n",
    "\n",
    "graph_builder.add_node('fundamental_analyst', fundamental_analyst)\n",
    "graph_builder.add_edge(START, 'fundamental_analyst')\n",
    "graph_builder.add_node(ToolNode(tools))\n",
    "graph_builder.add_conditional_edges('fundamental_analyst', tools_condition)\n",
    "graph_builder.add_edge('tools', 'fundamental_analyst')\n",
    "\n",
    "# HumanMessage(content=)\n",
    "# graph_builder.add_edge('fundamental_analyst', END)\n",
    "graph = graph_builder.compile()\n",
    "\n",
    "# events = graph.stream({'messages':[('user', 'Should I buy this stock?')],\n",
    "#  'stock': 'ALGM'}, stream_mode='values')\n",
    "# for event in events:\n",
    "#     if 'messages' in event:\n",
    "#         event['messages'][-1].pretty_print()"
   ]
  },
  {
   "cell_type": "code",
   "execution_count": 39,
   "metadata": {},
   "outputs": [],
   "source": [
    "#| hide\n",
    "import nbdev; nbdev.nbdev_export()"
   ]
  }
 ],
 "metadata": {
  "kernelspec": {
   "display_name": ".venv",
   "language": "python",
   "name": "python3"
  },
  "language_info": {
   "codemirror_mode": {
    "name": "ipython",
    "version": 3
   },
   "file_extension": ".py",
   "mimetype": "text/x-python",
   "name": "python",
   "nbconvert_exporter": "python",
   "pygments_lexer": "ipython3",
   "version": "3.12.7"
  }
 },
 "nbformat": 4,
 "nbformat_minor": 4
}
